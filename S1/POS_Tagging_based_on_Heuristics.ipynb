{
  "nbformat": 4,
  "nbformat_minor": 0,
  "metadata": {
    "colab": {
      "name": "POS Tagging based on Heuristics.ipynb",
      "provenance": [],
      "collapsed_sections": [],
      "include_colab_link": true
    },
    "kernelspec": {
      "name": "python3",
      "display_name": "Python 3"
    }
  },
  "cells": [
    {
      "cell_type": "markdown",
      "metadata": {
        "id": "view-in-github",
        "colab_type": "text"
      },
      "source": [
        "<a href=\"https://colab.research.google.com/github/ckgpeace/END/blob/main/S1/POS_Tagging_based_on_Heuristics.ipynb\" target=\"_parent\"><img src=\"https://colab.research.google.com/assets/colab-badge.svg\" alt=\"Open In Colab\"/></a>"
      ]
    },
    {
      "cell_type": "markdown",
      "metadata": {
        "id": "mM0Ka5OWjTtn"
      },
      "source": [
        "##Import necessary Libraries"
      ]
    },
    {
      "cell_type": "code",
      "metadata": {
        "id": "HUkH-XafjF18",
        "cellView": "both",
        "outputId": "0ce76936-5e63-40bf-dbcb-17a0d042acd8",
        "colab": {
          "base_uri": "https://localhost:8080/",
          "height": 118
        }
      },
      "source": [
        "import nltk\n",
        "from nltk.tokenize import word_tokenize\n",
        "from nltk.tag import pos_tag\n",
        "from nltk.chunk import ne_chunk\n",
        "nltk.download('punkt')\n",
        "nltk.download('averaged_perceptron_tagger')\n",
        "from IPython.display import display"
      ],
      "execution_count": 9,
      "outputs": [
        {
          "output_type": "stream",
          "text": [
            "[nltk_data] Downloading package punkt to /root/nltk_data...\n",
            "[nltk_data]   Package punkt is already up-to-date!\n",
            "[nltk_data] Downloading package averaged_perceptron_tagger to\n",
            "[nltk_data]     /root/nltk_data...\n",
            "[nltk_data]   Package averaged_perceptron_tagger is already up-to-\n",
            "[nltk_data]       date!\n"
          ],
          "name": "stdout"
        }
      ]
    },
    {
      "cell_type": "markdown",
      "metadata": {
        "id": "CnfJWQfEjn89"
      },
      "source": [
        "## A sentence under consideration for Information Extraction (NER)"
      ]
    },
    {
      "cell_type": "code",
      "metadata": {
        "id": "1nOjV-QMjlBF"
      },
      "source": [
        "sentence = 'Virat Kohli is an Indian cricketer who currently captains the India national team. A right-handed top-order batsman, Kohli is regarded as one of the best batsmen in the world'"
      ],
      "execution_count": 2,
      "outputs": []
    },
    {
      "cell_type": "markdown",
      "metadata": {
        "id": "wwc64Wajjv95"
      },
      "source": [
        "## Apply word tokenization and part-of-speech tagging to the sentence"
      ]
    },
    {
      "cell_type": "code",
      "metadata": {
        "id": "rrJPkc2MjtwW"
      },
      "source": [
        "def preprocess(sent):\n",
        "    sent = word_tokenize(sent)\n",
        "    sent = pos_tag(sent)\n",
        "    return sent"
      ],
      "execution_count": 5,
      "outputs": []
    },
    {
      "cell_type": "code",
      "metadata": {
        "id": "xKv51GotjyZU",
        "outputId": "5ee413e9-3402-4edc-fa7a-994a397c9dba",
        "colab": {
          "base_uri": "https://localhost:8080/",
          "height": 538
        }
      },
      "source": [
        "sent = preprocess(sentence)\n",
        "sent"
      ],
      "execution_count": 6,
      "outputs": [
        {
          "output_type": "execute_result",
          "data": {
            "text/plain": [
              "[('Virat', 'NNP'),\n",
              " ('Kohli', 'NNP'),\n",
              " ('is', 'VBZ'),\n",
              " ('an', 'DT'),\n",
              " ('Indian', 'JJ'),\n",
              " ('cricketer', 'NN'),\n",
              " ('who', 'WP'),\n",
              " ('currently', 'RB'),\n",
              " ('captains', 'VBZ'),\n",
              " ('the', 'DT'),\n",
              " ('India', 'NNP'),\n",
              " ('national', 'JJ'),\n",
              " ('team', 'NN'),\n",
              " ('.', '.'),\n",
              " ('A', 'DT'),\n",
              " ('right-handed', 'JJ'),\n",
              " ('top-order', 'NN'),\n",
              " ('batsman', 'NN'),\n",
              " (',', ','),\n",
              " ('Kohli', 'NNP'),\n",
              " ('is', 'VBZ'),\n",
              " ('regarded', 'VBN'),\n",
              " ('as', 'IN'),\n",
              " ('one', 'CD'),\n",
              " ('of', 'IN'),\n",
              " ('the', 'DT'),\n",
              " ('best', 'JJS'),\n",
              " ('batsmen', 'NNS'),\n",
              " ('in', 'IN'),\n",
              " ('the', 'DT'),\n",
              " ('world', 'NN')]"
            ]
          },
          "metadata": {
            "tags": []
          },
          "execution_count": 6
        }
      ]
    },
    {
      "cell_type": "markdown",
      "metadata": {
        "id": "5ZfnCIBOlP32"
      },
      "source": [
        "## Plot a Parse Tree"
      ]
    },
    {
      "cell_type": "code",
      "metadata": {
        "id": "3SFMBOJhj0kD",
        "outputId": "3dd018df-f581-4fca-b0a9-663cb7b0a5c8",
        "colab": {
          "base_uri": "https://localhost:8080/",
          "height": 454
        }
      },
      "source": [
        "pattern = 'NP: {<DT>?<JJ>*<NN>}'\n",
        "NPChunker = nltk.RegexpParser(pattern) # Regex Parse using the pattern\n",
        "result = NPChunker.parse(sent)\n",
        "print(result)\n",
        "# result.draw()"
      ],
      "execution_count": 14,
      "outputs": [
        {
          "output_type": "stream",
          "text": [
            "(S\n",
            "  Virat/NNP\n",
            "  Kohli/NNP\n",
            "  is/VBZ\n",
            "  (NP an/DT Indian/JJ cricketer/NN)\n",
            "  who/WP\n",
            "  currently/RB\n",
            "  captains/VBZ\n",
            "  the/DT\n",
            "  India/NNP\n",
            "  (NP national/JJ team/NN)\n",
            "  ./.\n",
            "  (NP A/DT right-handed/JJ top-order/NN)\n",
            "  (NP batsman/NN)\n",
            "  ,/,\n",
            "  Kohli/NNP\n",
            "  is/VBZ\n",
            "  regarded/VBN\n",
            "  as/IN\n",
            "  one/CD\n",
            "  of/IN\n",
            "  the/DT\n",
            "  best/JJS\n",
            "  batsmen/NNS\n",
            "  in/IN\n",
            "  (NP the/DT world/NN))\n"
          ],
          "name": "stdout"
        }
      ]
    },
    {
      "cell_type": "markdown",
      "metadata": {
        "id": "mzfWmM0s3qLQ"
      },
      "source": [
        "## POS Tags"
      ]
    },
    {
      "cell_type": "code",
      "metadata": {
        "id": "6lUv0-IX0V-v",
        "outputId": "cc241d7c-f7f4-4d36-c10d-839ffe30f5f6",
        "colab": {
          "base_uri": "https://localhost:8080/",
          "height": 538
        }
      },
      "source": [
        "from nltk.chunk import conlltags2tree, tree2conlltags\n",
        "from pprint import pprint\n",
        "iob_tagged = tree2conlltags(result)\n",
        "pprint(iob_tagged)"
      ],
      "execution_count": 15,
      "outputs": [
        {
          "output_type": "stream",
          "text": [
            "[('Virat', 'NNP', 'O'),\n",
            " ('Kohli', 'NNP', 'O'),\n",
            " ('is', 'VBZ', 'O'),\n",
            " ('an', 'DT', 'B-NP'),\n",
            " ('Indian', 'JJ', 'I-NP'),\n",
            " ('cricketer', 'NN', 'I-NP'),\n",
            " ('who', 'WP', 'O'),\n",
            " ('currently', 'RB', 'O'),\n",
            " ('captains', 'VBZ', 'O'),\n",
            " ('the', 'DT', 'O'),\n",
            " ('India', 'NNP', 'O'),\n",
            " ('national', 'JJ', 'B-NP'),\n",
            " ('team', 'NN', 'I-NP'),\n",
            " ('.', '.', 'O'),\n",
            " ('A', 'DT', 'B-NP'),\n",
            " ('right-handed', 'JJ', 'I-NP'),\n",
            " ('top-order', 'NN', 'I-NP'),\n",
            " ('batsman', 'NN', 'B-NP'),\n",
            " (',', ',', 'O'),\n",
            " ('Kohli', 'NNP', 'O'),\n",
            " ('is', 'VBZ', 'O'),\n",
            " ('regarded', 'VBN', 'O'),\n",
            " ('as', 'IN', 'O'),\n",
            " ('one', 'CD', 'O'),\n",
            " ('of', 'IN', 'O'),\n",
            " ('the', 'DT', 'O'),\n",
            " ('best', 'JJS', 'O'),\n",
            " ('batsmen', 'NNS', 'O'),\n",
            " ('in', 'IN', 'O'),\n",
            " ('the', 'DT', 'B-NP'),\n",
            " ('world', 'NN', 'I-NP')]\n"
          ],
          "name": "stdout"
        }
      ]
    },
    {
      "cell_type": "markdown",
      "metadata": {
        "id": "GsWTk0dX4DN8"
      },
      "source": [
        "**This is how Information is extracted using heuristics based techniques. Try using another pattern.**"
      ]
    },
    {
      "cell_type": "code",
      "metadata": {
        "id": "hGPurTlb3tWd"
      },
      "source": [
        ""
      ],
      "execution_count": null,
      "outputs": []
    }
  ]
}